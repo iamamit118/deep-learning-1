{
  "nbformat": 4,
  "nbformat_minor": 0,
  "metadata": {
    "colab": {
      "provenance": [],
      "authorship_tag": "ABX9TyOhV0YSPmV9MHBAS7yrSG7c",
      "include_colab_link": true
    },
    "kernelspec": {
      "name": "python3",
      "display_name": "Python 3"
    },
    "language_info": {
      "name": "python"
    }
  },
  "cells": [
    {
      "cell_type": "markdown",
      "metadata": {
        "id": "view-in-github",
        "colab_type": "text"
      },
      "source": [
        "<a href=\"https://colab.research.google.com/github/iamamit118/deep-learning-1/blob/main/Untitled13.ipynb\" target=\"_parent\"><img src=\"https://colab.research.google.com/assets/colab-badge.svg\" alt=\"Open In Colab\"/></a>"
      ]
    },
    {
      "cell_type": "code",
      "execution_count": null,
      "metadata": {
        "colab": {
          "base_uri": "https://localhost:8080/"
        },
        "id": "cZCsl-d3eH6V",
        "outputId": "38d545c7-6165-4b42-fd7c-1721c961000d"
      },
      "outputs": [
        {
          "output_type": "stream",
          "name": "stdout",
          "text": [
            "Downloading data from https://storage.googleapis.com/tensorflow/tf-keras-datasets/mnist.npz\n",
            "\u001b[1m11490434/11490434\u001b[0m \u001b[32m━━━━━━━━━━━━━━━━━━━━\u001b[0m\u001b[37m\u001b[0m \u001b[1m2s\u001b[0m 0us/step\n",
            "Epoch 1/10\n",
            "\u001b[1m235/235\u001b[0m \u001b[32m━━━━━━━━━━━━━━━━━━━━\u001b[0m\u001b[37m\u001b[0m \u001b[1m161s\u001b[0m 672ms/step - loss: 0.2204\n",
            "Epoch 2/10\n",
            "\u001b[1m235/235\u001b[0m \u001b[32m━━━━━━━━━━━━━━━━━━━━\u001b[0m\u001b[37m\u001b[0m \u001b[1m200s\u001b[0m 667ms/step - loss: 0.0663\n",
            "Epoch 3/10\n"
          ]
        }
      ],
      "source": [
        "import tensorflow as tf\n",
        "from tensorflow.keras import layers, models\n",
        "from tensorflow.keras.utils import to_categorical\n",
        "\n",
        "# Load and preprocess MNIST dataset\n",
        "(X_train, y_train), (X_test, y_test) = tf.keras.datasets.mnist.load_data()\n",
        "X_train, X_test = X_train / 255.0, X_test / 255.0\n",
        "X_train, X_test = X_train.reshape((-1, 28, 28, 1)), X_test.reshape((-1, 28, 28, 1))\n",
        "\n",
        "# Convert labels to one-hot encoding for classification\n",
        "y_train, y_test = to_categorical(y_train, 10), to_categorical(y_test, 10)\n",
        "\n",
        "# Define Autoencoder\n",
        "input_layer = layers.Input(shape=(28, 28, 1))\n",
        "\n",
        "# Encoder\n",
        "x = layers.Conv2D(32, (3, 3), activation='relu', padding='same')(input_layer)\n",
        "x = layers.MaxPooling2D((2, 2), padding='same')(x)\n",
        "encoded = layers.Conv2D(64, (3, 3), activation='relu', padding='same')(x)\n",
        "\n",
        "# Decoder\n",
        "x = layers.Conv2DTranspose(64, (3, 3), activation='relu', padding='same')(encoded)\n",
        "x = layers.UpSampling2D((2, 2))(x)\n",
        "decoded = layers.Conv2DTranspose(1, (3, 3), activation='sigmoid', padding='same')(x)\n",
        "\n",
        "autoencoder = models.Model(input_layer, decoded)\n",
        "autoencoder.compile(optimizer='adam', loss='binary_crossentropy')\n",
        "\n",
        "# Pretrain Autoencoder (Unsupervised)\n",
        "autoencoder.fit(X_train, X_train, epochs=10, batch_size=256, shuffle=True)\n",
        "\n",
        "# Extract Encoder for Greedy Pretraining\n",
        "encoder = models.Model(input_layer, encoded)\n",
        "\n",
        "# Fine-Tuning (Supervised Learning)\n",
        "encoded_input = layers.Input(shape=(14, 14, 64))\n",
        "x = layers.Flatten()(encoded_input)\n",
        "x = layers.Dense(128, activation='relu')(x)\n",
        "x = layers.Dense(10, activation='softmax')(x)\n",
        "\n",
        "classifier = models.Model(encoded_input, x)\n",
        "classifier.compile(optimizer='adam', loss='categorical_crossentropy', metrics=['accuracy'])\n",
        "\n",
        "# Train the Classifier with Encoded Features\n",
        "classifier.fit(encoder.predict(X_train), y_train, epochs=5, batch_size=256, validation_data=(encoder.predict(X_test), y_test))"
      ]
    },
    {
      "cell_type": "code",
      "source": [
        "import numpy as np\n",
        "\n",
        "# Select some test images\n",
        "n = 5\n",
        "test_imgs = X_test[:n]\n",
        "encoded_test_imgs = encoder.predict(test_imgs)\n",
        "\n",
        "# Get classifier predictions\n",
        "predictions = np.argmax(classifier.predict(encoded_test_imgs), axis=1)\n",
        "\n",
        "# Plot results\n",
        "plt.figure(figsize=(10, 2))\n",
        "for i in range(n):\n",
        "    plt.subplot(1, n, i + 1)\n",
        "    plt.imshow(test_imgs[i].reshape(28, 28), cmap='gray')\n",
        "    plt.axis('off')\n",
        "    plt.title(f\"Pred: {predictions[i]}\")\n",
        "plt.show()"
      ],
      "metadata": {
        "id": "JZNh_SaVePNy"
      },
      "execution_count": null,
      "outputs": []
    },
    {
      "cell_type": "code",
      "source": [
        "\\loss, accuracy = classifier.evaluate(encoder.predict(X_test), y_test)\n",
        "print(f\"Test Accuracy: {accuracy * 100:.2f}%\")"
      ],
      "metadata": {
        "id": "wX3pxO8afrwW"
      },
      "execution_count": null,
      "outputs": []
    }
  ]
}